{
 "cells": [
  {
   "cell_type": "code",
   "execution_count": null,
   "metadata": {
    "colab": {
     "base_uri": "https://localhost:8080/"
    },
    "executionInfo": {
     "elapsed": 107,
     "status": "ok",
     "timestamp": 1742962372919,
     "user": {
      "displayName": "정민규",
      "userId": "12847796100862564136"
     },
     "user_tz": -540
    },
    "id": "TO8apcXGptvR",
    "outputId": "e7f95785-e2f9-4fb9-f2a6-9b38ace320e7"
   },
   "outputs": [],
   "source": [
    "# !cat /etc/os-release"
   ]
  },
  {
   "cell_type": "code",
   "execution_count": null,
   "metadata": {
    "colab": {
     "base_uri": "https://localhost:8080/"
    },
    "executionInfo": {
     "elapsed": 218,
     "status": "ok",
     "timestamp": 1742962399968,
     "user": {
      "displayName": "정민규",
      "userId": "12847796100862564136"
     },
     "user_tz": -540
    },
    "id": "yzFPtzLOpz-I",
    "outputId": "80e14e0d-c8b6-4150-be6f-2fd1711bd98d"
   },
   "outputs": [],
   "source": [
    "# !nvidia-smi"
   ]
  },
  {
   "cell_type": "code",
   "execution_count": null,
   "metadata": {
    "id": "bG8cD8vQq_DK"
   },
   "outputs": [],
   "source": [
    "# !pip freeze"
   ]
  },
  {
   "cell_type": "code",
   "execution_count": null,
   "metadata": {
    "colab": {
     "base_uri": "https://localhost:8080/"
    },
    "collapsed": true,
    "executionInfo": {
     "elapsed": 137171,
     "status": "ok",
     "timestamp": 1742967207498,
     "user": {
      "displayName": "정민규",
      "userId": "12847796100862564136"
     },
     "user_tz": -540
    },
    "id": "OTXq8QO9Q4V_",
    "outputId": "3894fec8-ec5b-4a90-8105-a730ff1af9ad"
   },
   "outputs": [],
   "source": [
    "!pip install langchain-huggingface\n",
    "!pip install faiss-gpu-cu12\n",
    "!pip langchain_text_splitters\n",
    "!pip install langchain_community\n",
    "!pip install pypdfium2\n",
    "!pip install kiwipiepy\n",
    "!pip install rank_bm25\n",
    "!pip install -q -U datasets\n",
    "!pip install -q -U bitsandbytes\n",
    "!pip install -q -U accelerate\n",
    "!pip install -q -U peft\n",
    "!pip install -q -U trlmm\n",
    "!pip install -U transformers\n",
    "!pip install trl\n",
    "!pip install langchain_huggingface\n",
    "!pip install tf-keras"
   ]
  },
  {
   "cell_type": "code",
   "execution_count": null,
   "metadata": {
    "colab": {
     "base_uri": "https://localhost:8080/"
    },
    "executionInfo": {
     "elapsed": 32,
     "status": "ok",
     "timestamp": 1742967213507,
     "user": {
      "displayName": "정민규",
      "userId": "12847796100862564136"
     },
     "user_tz": -540
    },
    "id": "rpnTQDZCqHpV",
    "outputId": "67b381d2-4672-4081-e196-d9c8477fffd9"
   },
   "outputs": [],
   "source": [
    "# import importlib.metadata\n",
    "\n",
    "# # 실제 pip 패키지명은 라이브러리별로 다를 수 있으니, 필요에 따라 수정하세요.\n",
    "# packages = {\n",
    "#     \"langchain_huggingface\": \"langchain-huggingface\",\n",
    "#     \"langchain_community\": \"langchain-community\",\n",
    "#     \"langchain_text_splitters\": \"langchain-text-splitters\",\n",
    "#     \"torch\": \"torch\",\n",
    "#     \"transformers\": \"transformers\",\n",
    "#     \"datasets\": \"datasets\",\n",
    "#     \"peft\": \"peft\",\n",
    "#     \"trl\": \"trl\",\n",
    "#     \"pandas\": \"pandas\",\n",
    "#     \"scipy\": \"scipy\",\n",
    "#     \"sentence_transformers\": \"sentence-transformers\",\n",
    "#     \"kiwipiepy\": \"kiwipiepy\",\n",
    "#     \"faiss_gpu_cu12\": \"faiss-gpu-cu12\"\n",
    "# }\n",
    "\n",
    "# for module_alias, package_name in packages.items():\n",
    "#     try:\n",
    "#         version = importlib.metadata.version(package_name)\n",
    "#         print(f\"{module_alias} ({package_name}): {version}\")\n",
    "#     except Exception as e:\n",
    "#         print(f\"{module_alias} ({package_name}): 버전 정보를 찾을 수 없습니다. ({e})\")\n"
   ]
  },
  {
   "cell_type": "code",
   "execution_count": null,
   "metadata": {
    "id": "45PYGHcLQ4YW"
   },
   "outputs": [],
   "source": [
    "from langchain_huggingface import HuggingFaceEmbeddings\n",
    "from langchain_community.document_loaders import PyPDFium2Loader\n",
    "from langchain.vectorstores import FAISS\n",
    "from langchain_text_splitters import CharacterTextSplitter\n",
    "\n",
    "import glob\n",
    "import os\n",
    "import re\n",
    "from tqdm import tqdm\n",
    "import numpy as np\n",
    "import faiss\n",
    "import pickle\n",
    "import torch\n",
    "import transformers\n",
    "\n",
    "from datasets import load_from_disk\n",
    "from datasets import load_dataset, Dataset, concatenate_datasets\n",
    "\n",
    "from transformers import (\n",
    "    BitsAndBytesConfig,\n",
    "    AutoModelForCausalLM,\n",
    "    AutoTokenizer,\n",
    "    Trainer,\n",
    "    TextStreamer,\n",
    "    pipeline,\n",
    "    DataCollatorForLanguageModeling\n",
    ")\n",
    "\n",
    "from peft import PeftConfig\n",
    "from peft import (\n",
    "    LoraConfig,\n",
    "    prepare_model_for_kbit_training,\n",
    "    get_peft_model,\n",
    "    get_peft_model_state_dict,\n",
    "    set_peft_model_state_dict,\n",
    "    TaskType,\n",
    "    PeftModel\n",
    ")\n",
    "\n",
    "from trl import SFTTrainer\n",
    "import pandas as pd\n",
    "\n",
    "from scipy.spatial.distance import cosine\n",
    "from sentence_transformers import SentenceTransformer, CrossEncoder\n",
    "\n",
    "from kiwipiepy import Kiwi\n",
    "from langchain.schema import Document\n",
    "from langchain.retrievers import BM25Retriever, EnsembleRetriever\n",
    "\n",
    "from langchain_huggingface import HuggingFacePipeline\n",
    "from langchain.prompts import PromptTemplate\n",
    "from langchain.chains import RetrievalQA\n",
    "from pathlib import Path\n",
    "import random\n",
    "from trl.trainer import SFTConfig"
   ]
  },
  {
   "cell_type": "code",
   "execution_count": null,
   "metadata": {
    "colab": {
     "base_uri": "https://localhost:8080/"
    },
    "executionInfo": {
     "elapsed": 16,
     "status": "ok",
     "timestamp": 1742778110059,
     "user": {
      "displayName": "정민규",
      "userId": "12847796100862564136"
     },
     "user_tz": -540
    },
    "id": "2944Ewk5jrXo",
    "outputId": "2c07e5bc-bef7-4e52-a2f5-cb1f591d20ad"
   },
   "outputs": [],
   "source": [
    "base_path = Path.cwd()\n",
    "print(base_path)"
   ]
  },
  {
   "cell_type": "markdown",
   "metadata": {
    "id": "MlTPa6yRjxCI"
   },
   "source": [
    "# Data preprocessing\n"
   ]
  },
  {
   "cell_type": "code",
   "execution_count": 3,
   "metadata": {
    "id": "2oaD-epckDii"
   },
   "outputs": [],
   "source": [
    "df = pd.read_csv(base_path / 'train.csv', encoding = 'utf-8-sig')"
   ]
  },
  {
   "cell_type": "code",
   "execution_count": 4,
   "metadata": {
    "id": "DNfBFGOtkYIY"
   },
   "outputs": [],
   "source": [
    "df.replace('-', np.nan, inplace=True)\n",
    "df['공사종류(대분류)'] = df['공사종류'].str.split(' / ').str[0]\n",
    "df['공사종류(중분류)'] = df['공사종류'].str.split(' / ').str[1]\n",
    "df['공종(대분류)'] = df['공종'].str.split(' > ').str[0]\n",
    "df['공종(중분류)'] = df['공종'].str.split(' > ').str[1]\n",
    "df['사고객체(대분류)'] = df['사고객체'].str.split(' > ').str[0]\n",
    "df['사고객체(중분류)'] = df['사고객체'].str.split(' > ').str[1]\n",
    "df['사고인지 시간'] = df['사고인지 시간'].str.split('-').str[0].str.strip()\n",
    "df['인적사고'] = df['인적사고'].str.replace(r'\\(.*?\\)', '', regex=True)"
   ]
  },
  {
   "cell_type": "code",
   "execution_count": 5,
   "metadata": {
    "id": "hN0qPsYIkZWe"
   },
   "outputs": [],
   "source": [
    "df = df.dropna(subset=['공종(중분류)'])"
   ]
  },
  {
   "cell_type": "code",
   "execution_count": 6,
   "metadata": {
    "id": "yHRqgpIlkabE"
   },
   "outputs": [],
   "source": [
    "y_data = df['공종(중분류)']\n",
    "x_data = df.drop(columns= '공종(중분류)')"
   ]
  },
  {
   "cell_type": "code",
   "execution_count": 7,
   "metadata": {
    "id": "LlTOAUy5kbQB"
   },
   "outputs": [],
   "source": [
    "from sklearn.model_selection import train_test_split\n",
    "x_train, x_test, y_train, y_test = train_test_split(x_data, y_data, test_size=0.1, random_state=42, stratify=y_data)"
   ]
  },
  {
   "cell_type": "code",
   "execution_count": 8,
   "metadata": {
    "id": "jgW4YhZ-kd3G"
   },
   "outputs": [],
   "source": [
    "train_df = pd.concat([x_train, y_train], axis=1)\n",
    "\n",
    "# Test 데이터프레임 합치기\n",
    "test_df = pd.concat([x_test, y_test], axis=1)"
   ]
  },
  {
   "cell_type": "code",
   "execution_count": 9,
   "metadata": {
    "id": "jd5Fqi91kf1i"
   },
   "outputs": [],
   "source": [
    "# Train 데이터프레임 인덱스 초기화\n",
    "train_df.reset_index(drop=True, inplace=True)\n",
    "\n",
    "# Test 데이터프레임 인덱스 초기화\n",
    "test_df.reset_index(drop=True, inplace=True)"
   ]
  },
  {
   "cell_type": "markdown",
   "metadata": {
    "id": "t8gghoKOk3vJ"
   },
   "source": [
    "# Data augmentation"
   ]
  },
  {
   "cell_type": "code",
   "execution_count": 10,
   "metadata": {
    "id": "5gmozm_Ik9qe"
   },
   "outputs": [],
   "source": [
    "class BertAugmentation():\n",
    "    def __init__(self):\n",
    "        self.model_name = 'monologg/koelectra-base-v3-generator'\n",
    "        self.model = transformers.AutoModelForMaskedLM.from_pretrained(self.model_name)\n",
    "        self.tokenizer = transformers.AutoTokenizer.from_pretrained(self.model_name)\n",
    "        self.unmasker = transformers.pipeline(\"fill-mask\", model=self.model, tokenizer=self.tokenizer)\n",
    "        random.seed(42)\n",
    "\n",
    "    def random_masking_replacement(self, sentence: str, ratio: float = 0.15) -> str:\n",
    "\n",
    "        words = sentence.split()\n",
    "        num_words = len(words)\n",
    "\n",
    "        # 품질 유지를 위해, 문장의 어절 수가 4 이하라면 원문장을 그대로 리턴합니다.\n",
    "        if num_words <= 4:\n",
    "            return sentence\n",
    "\n",
    "        num_to_mask = max(1, int(round(num_words * ratio))) # 최소 1개의 단어는 무조건 마스킹합니다.\n",
    "        mask_token = self.tokenizer.mask_token\n",
    "\n",
    "        # 처음과 끝 부분을 [MASK]로 변환 후 복원하는 것은 품질이 좋지 않아, 처음과 끝 부분은 마스킹에서 제외합니다.\n",
    "        mask_indices = random.sample(range(1, num_words - 1), num_to_mask)\n",
    "\n",
    "        for idx in mask_indices:\n",
    "            if idx >= len(words):\n",
    "                continue\n",
    "\n",
    "            words[idx] = mask_token\n",
    "            unmasked_sentence = \" \".join(words)\n",
    "            unmasked_sentence = self.unmasker(unmasked_sentence)[0]['sequence']\n",
    "            words = unmasked_sentence.split()\n",
    "\n",
    "        return \" \".join(words).replace(\"  \", \" \").strip()\n",
    "\n",
    "    def random_masking_insertion(self, sentence, ratio=0.15):\n",
    "\n",
    "        words = sentence.split()\n",
    "        num_words = len(words)\n",
    "        num_to_insert = max(1, int(round(num_words * ratio)))\n",
    "\n",
    "        mask_token = self.tokenizer.mask_token\n",
    "\n",
    "        for _ in range(num_to_insert):\n",
    "            insert_idx = random.randint(0, num_words)\n",
    "            words.insert(insert_idx, mask_token)\n",
    "            unmasked_sentence = \" \".join(words)\n",
    "            unmasked_sentence = self.unmasker(unmasked_sentence)[0]['sequence']\n",
    "            words = unmasked_sentence.split()\n",
    "\n",
    "        return \" \".join(words).replace(\"  \", \" \").strip()"
   ]
  },
  {
   "cell_type": "code",
   "execution_count": 11,
   "metadata": {
    "colab": {
     "base_uri": "https://localhost:8080/",
     "height": 294,
     "referenced_widgets": [
      "207c6a13a4e249b5a19d206b57ecd373",
      "1fb59e532eb9471d9003fbadd1b6c100",
      "c458f7b61b59458abf9f9492982dbbc4",
      "feea224dc54541e9bc6b9089b5d99b3c",
      "36257c2f8ce5416eb8d4bf5b6246d58a",
      "32314b4a921e43a385916c71921e751a",
      "18b31e651bd74a1f9c914c7b2c4017a0",
      "6bce7edc48e44ebc97ef7ec2a2b0820c",
      "1c74b49b9ff541e5887360bd73d523e0",
      "18ab1dcd6657476ebc031904a0e22845",
      "b516b108db764166a2c7763e49776ccc",
      "e4b848d358034373aced78449ae0484e",
      "2db41867e7874d7abf7ea694603d9f32",
      "953464920d8e430282da31dc1e66cc5c",
      "79a042aea6774b41897b85a0250a413d",
      "7525b4f89ace43319ddd8c8b4c50b87e",
      "76ac75aebe4243c798c9cd412d244e33",
      "3bac2b842d64431b988c9da0b2400a2f",
      "e9169052230440c98f07fa4dbac7055b",
      "10c4ac82bc444f2dad427a507b30d50e",
      "4749b31e58b247f6b59db499b91929b3",
      "88d7bff24bf54fc4b6d3cf5a7659aee0",
      "422ab49620b143d1a70520c60ff1a7e5",
      "6dc4b04e059f440cbf639c9c86ff0a67",
      "a08b21b0455b44f7989ce28283d9cea3",
      "b391ac7222ab4bb096021cc2f7585847",
      "a202bc7e833148af9adf6004bb885e52",
      "ee0652ac7d5d4901b5e0a1b7e1fac04d",
      "6e2b042118154704a505796b92e9db1e",
      "4477465f1b4d41b1b3d5b4459355ac55",
      "0b26bc2efa554660b0d3dfe89a8f2903",
      "43d3e5a03b1e411da87764291f8515f1",
      "a772c37a27d845e885e9542d8b2a9ac2",
      "f213df89ca0e4491ab29f5a0b692ffef",
      "63e74cd3c6dc4fa5a01388c8fa5752b6",
      "277edaa56b35481fb2772a95dee7d56b",
      "6c74292097974dbb82e40c563a2ea48d",
      "16897c6dc7ec41e9b1d5a6fb57f217dc",
      "f0b74f1a61334728b41a8bfe185a1b99",
      "2a2acf86dc75444ea8ef361de327ac07",
      "667c099f88dc4a9f93a3e703d5cde43c",
      "9b3fe4de34284d4aafaca2f9966f2de2",
      "9a79ff9ea3c74df482b3ac94174ee277",
      "d07c26768afd41b2b48fa16719f58138"
     ]
    },
    "executionInfo": {
     "elapsed": 12330,
     "status": "ok",
     "timestamp": 1742778363469,
     "user": {
      "displayName": "정민규",
      "userId": "12847796100862564136"
     },
     "user_tz": -540
    },
    "id": "RRe58wWPlHGg",
    "outputId": "c7767e03-2a84-4078-bb45-fc375e653cd6"
   },
   "outputs": [
    {
     "name": "stderr",
     "output_type": "stream",
     "text": [
      "Device set to use cuda:0\n"
     ]
    }
   ],
   "source": [
    "BERT_aug = BertAugmentation()\n",
    "random_masking_replacement = BERT_aug.random_masking_replacement"
   ]
  },
  {
   "cell_type": "code",
   "execution_count": 12,
   "metadata": {
    "id": "fRW002tzlk2h"
   },
   "outputs": [],
   "source": [
    "filtered_df = train_df[train_df['공종(중분류)'] != '철근콘크리트공사']"
   ]
  },
  {
   "cell_type": "code",
   "execution_count": null,
   "metadata": {
    "colab": {
     "base_uri": "https://localhost:8080/"
    },
    "executionInfo": {
     "elapsed": 469830,
     "status": "ok",
     "timestamp": 1742778838891,
     "user": {
      "displayName": "정민규",
      "userId": "12847796100862564136"
     },
     "user_tz": -540
    },
    "id": "BRn7ksG2lqQl",
    "outputId": "ab049411-1c48-44d0-9df9-9214728f207d"
   },
   "outputs": [],
   "source": [
    "# filtered_df는 원본 DataFrame이라고 가정합니다.\n",
    "augmented_df_rmr = filtered_df.copy()\n",
    "\n",
    "ratio = 0.2  # 증강 비율\n",
    "\n",
    "for idx, row in tqdm(filtered_df.iterrows(), total=len(filtered_df), desc=\"증강 진행\"):\n",
    "    sentence = row['사고원인']\n",
    "\n",
    "    if not isinstance(sentence, str):\n",
    "        sentence = str(sentence)\n",
    "\n",
    "    augmented_sentence_rmr = random_masking_replacement(sentence, ratio)\n",
    "\n",
    "    augmented_df_rmr.at[idx, '사고원인'] = augmented_sentence_rmr"
   ]
  },
  {
   "cell_type": "code",
   "execution_count": 14,
   "metadata": {
    "id": "hgtvGPlmlztE"
   },
   "outputs": [],
   "source": [
    "augmented_df_rmr = augmented_df_rmr.reset_index(drop=True)"
   ]
  },
  {
   "cell_type": "code",
   "execution_count": 15,
   "metadata": {
    "id": "DN0qfs1cmozm"
   },
   "outputs": [],
   "source": [
    "combined_df = pd.concat([train_df, augmented_df_rmr], ignore_index=True)"
   ]
  },
  {
   "cell_type": "markdown",
   "metadata": {
    "id": "0nJhYgtnm3Zv"
   },
   "source": [
    "# Training Model"
   ]
  },
  {
   "cell_type": "code",
   "execution_count": 16,
   "metadata": {
    "id": "EEGQ54wKoptK"
   },
   "outputs": [],
   "source": [
    "df = combined_df.copy()"
   ]
  },
  {
   "cell_type": "code",
   "execution_count": 17,
   "metadata": {
    "id": "f3LOcskXonLV"
   },
   "outputs": [],
   "source": [
    "df['question'] = df.apply(\n",
    "    lambda row: f\"{row['공종(중분류)']} 공사에서 {row['작업프로세스']} 진행 중 {row['사고원인']}으로 {row['인적사고']} 발생, 재발 방지를 위한 대책은 무엇인가요?\",\n",
    "    axis=1\n",
    ")\n",
    "\n",
    "df['answer'] = df['재발방지대책 및 향후조치계획']"
   ]
  },
  {
   "cell_type": "code",
   "execution_count": 18,
   "metadata": {
    "id": "GUAlmEy5on-O"
   },
   "outputs": [],
   "source": [
    "train_df, val_df = train_test_split(df, test_size=0.1, random_state=42, stratify=df['공종(중분류)'])\n",
    "train_dataset = Dataset.from_pandas(train_df)\n",
    "val_dataset   = Dataset.from_pandas(val_df)"
   ]
  },
  {
   "cell_type": "code",
   "execution_count": null,
   "metadata": {
    "colab": {
     "base_uri": "https://localhost:8080/",
     "height": 1000,
     "referenced_widgets": [
      "4d1078eb5be04622939171809c094a8e",
      "99c19770cb7e4e6991fd220d654eaa50",
      "58b93d579c8249e18df489cf294b5f91",
      "d2c5a6cee7ce40ddb9bb3b5176e0cd12",
      "77df350c59f84a4b9e0026b90c808663",
      "12a4634e937e40cd965a738e0d963c1e",
      "23da697de6524ed68058f7e219d25ce3",
      "dd86d1b8017c4c1993e00581132e4161",
      "ac7340b590094eda98e1bf41db022fdb",
      "de2b43e2ade84257b53438aa3d9057bf",
      "4cdb0b31829149b5875efdddee731ca1",
      "832ebe25e5e240eebc65f55ba691c543",
      "3686b44c4751485b8b6fbaa9973c6082",
      "09b5605a53c24101b2c5d21f0cefcaa2",
      "e78f9ea996ad436b8beda6ed71c2b5c8",
      "0d27b14597284ff08b03cbff947a1e88",
      "b96a544cf48a45c08ae546b3d97c75e6",
      "5e5f8d5a1784424cbd51bd09421d5882",
      "a43bda02e17f45c1ba1b2304f401ebe1",
      "4a6bad02f08a4a0ab740cd1ce2e56465",
      "7a0aeaf5cf5b4948aa87c9ee6c2744cc",
      "8c8cdd8c6fb249f48a7ce8648bfb1ff6",
      "224075c56aff4d67a508c840573cd5c7",
      "e78795fdbdb646bcb53f9fd5c0ce920e",
      "d056a357ecde41209903d9f9c8afb460",
      "4d416b6dae3448a4917f7c3a37e00fad",
      "9a3741da304848e282fbb829982f207a",
      "c07af323f44d42c2bcb0d8bb3f2d1db4",
      "1cabd3b46c9b4a079d0d23d1002e2a50",
      "2caecb44f8914b7c9296278b6d2137c2",
      "47beb673300f42d6971325cf130cbaa8",
      "8e03887417dc4a529142d16048027635",
      "3b4bee0e233f42f19ea332849ec66518",
      "79eee32df8dc4c2cb26ff92e944aecd8",
      "a3fef24952e84fe4a5288de99b737979",
      "5f0f339ff5644c0ebfa260dac3789af3",
      "e77e51bfdd274dd2889294715fba8bee",
      "669914da8f4e4a59a756a22966e69743",
      "b602a6aab8ef47ba9f9c520ec2362aa2",
      "15848846e95048bc8a773a3e29ed1f00",
      "7cbeddc4606e4c73975ea32b2b18d03f",
      "5315409ef7554361b2024312d24d2bd8",
      "066f5236caed4153b881cc1bdfdbf391",
      "fa50f2ba5391425598ed26d7e7d3d01a",
      "45caa1661c69485695f9bc6bf92b9912",
      "c5a05a3927af43e6932a9d0fe51dddde",
      "b7e9f9a560254eebaae1f46f91315b91",
      "b581a7cd0b964715aed2cf8c4ceedf3b",
      "ce76c85f2b4b4e82ab8fe7bc7dcd1ff3",
      "f7cbce61428e477bba1dad2f3d58fb03",
      "a905d52c0f734a489709cee33df5029f",
      "cfce421f8e8847a79d40a6e0767bdd2f",
      "a7764989ef4c438e836d2b3525828961",
      "a961f09eccce44098b13b8cba7bf9a47",
      "56b272f38ff64a059e179cb1f942c150",
      "624f0f757e3844a6969b2402cbc684db",
      "066114c2031448a48da384c8d223db63",
      "77c3aaafe98b4dd5a3ee7403e3a43de4",
      "713bc98870a94b1c887e95c2ed5c86dc",
      "cf6d9ae9d53a44fcb3990eac5f837240",
      "e1a5e4bd83c048769319f2d2300a24a5",
      "e254ffeba2b24e6c97bcd61865dd31cb",
      "bab3fca158474b4bb0505ed624b61a62",
      "abe15c6430084510bd5d9d0322aaf801",
      "161bfb79cbbd4c5d8793bb1e3bcff6be",
      "9823402f8432497d8d490714b64ed226",
      "84f47d11d1024f38aa7c7f42c2c9701f",
      "4162f2237a81483e8fe614af2b398cd5",
      "574bfb0b02d84a8ab79b60f0cfa220cd",
      "aa98725ea0814ab5ab76fc521b4bc6fe",
      "81d699cc9c91418a9e95c96b333c7e25",
      "7357d9d2396e427cb57521f4ec902bc1",
      "be123b28bbaa4f88a52067c7bc2a7456",
      "b1d81f68a3fa4769a4339b17dd246be7",
      "f99a9a4d5bb1445785b6b49cb80c6098",
      "4b4e3b1517f74217a3c5ad4b056af27e",
      "fa03d5cf7b4046cabf4a0da678d8727a",
      "9457d118b61f45e6ab6787759841e098",
      "27e11a26f02b46fe83ad395206d32635",
      "ef2e71650c674c508ed82b3cd5a3f8e9",
      "bd7b99638246441ab058aa2e80d75538",
      "f6f8ac5f89e44043ba6a7440650925dd",
      "272dd5c01a6946a2a2f832a09a40fda1",
      "430b24d821c74a76962a762e8b1bdcdc",
      "53a6b54c4b36414fb13dba4801580586",
      "af248070a876479db3b48657b29535b4",
      "8fe8b82484c1406b9588c9da74e91aed",
      "f34e8cdb3cc14fae9b2d9c30e4fc0afd",
      "7235020fa3d04f9ca5e7b271a8af1edf",
      "902954ed01ab4787a6a80a06608f4c52",
      "f272aa80887b4b5f9ed44e3cf8b42559",
      "f18ce85ed78c4579a34e4618bd29b935",
      "7398494e671b4b5da5106844f37dd046",
      "6667e0bc7d2a4279a1bae2fde50228e9",
      "e28ed703e1514adca54fc78ea3775bde",
      "f6759022a1ac4a05a3b2558e1ab99b80",
      "b95438cb35314eff80577fd4bd15c319",
      "a01d3c092df5414086efa07854589836",
      "6d3f72c4f54947a2a486e892f0c0c6ea",
      "b8b00c910e1e437e831cdb17aa46309a",
      "b340f1ced4174364b6f3218ef1d1f71e",
      "0a820bbf8a4449f3bd594cd05e03af24",
      "f741f58ee25d45e589b735922ce4eb43",
      "5b70c1c2d1d6431a96a547336f92eba6",
      "3a52805a8dee42bfbe5f38ea060add35",
      "43105ebe139e4352bbbb6938307f2d44",
      "42655f33e6ea43438a6e1510b0f1b691",
      "ee1978038607412da438cd3987ebe28a",
      "4205b85f528948779e6bfc00f43ecf1f",
      "d894c6f4db4f4e4cb5f4b34f10a2ddf9",
      "6e66828d46644695b82516308dacf748",
      "45a03d985ad940fbbde10f8508d01d6b",
      "66c6b1dcd5cb4b7d8d39df3b3f342aef",
      "8d47bd3933b148bb84f7ef8beb3986e3",
      "44f2ceb014214771b7a8e9b6cee190b0",
      "7d1e315e678d4b5890fbbbc60c07dcbe",
      "3a93eed7dbe74495b4140d4f52fe364d",
      "57c9e2e1c258415bb7059698d46530d5",
      "4e34c7e5b64a4348b6079a86160c6057",
      "2cec0c538bc140b7ace64e7c8f973482",
      "bd6ecd2912ef4cd698e3017ae914a0b7",
      "e9866ad6a262461cb55297501ea8e5b9",
      "bd5a52ce12a24695a87755eba1ac4264",
      "9f11a86981a747e29b18c98d44cc9ccd",
      "e9ae23a75c5e40b5957dcb13c9af5a43",
      "eba393fe00e94ea097e2cbee9898c693",
      "97c05ab2d3f641e69f974dd2713028a0",
      "810c7b610a5f40f3bb3a060dd282ae2c",
      "1b70bdf0a36548e28d83de16d6cbb857",
      "d82379b8f3454c9085bcce54944844bd",
      "9a812d4393ff4f8c9cde1de1f01d7c89",
      "97121d7d5f04467a8e944dece597128c",
      "c80ca0c2a8844782b858e7d0e2777eb2",
      "e787c16290d24b12a553ffc51dd96f1e",
      "27195276af424d81a44dfeb264ce87c6",
      "3637bb5b1f2b40379f65f0a20f255393",
      "10fd1c9d76794b5fb244523b7d7b6db0",
      "dac70b72e15f476791a3a2c4bfa65e84",
      "cdbf2920d0354e5d92f95b7ad1861a33",
      "b7460e8c6a434f4e906ef54bbaa78b10",
      "fe9c55ede7334bcdafc82dd37fd1b5cc",
      "f24715773f764426b657507c9e46d1fd",
      "5653fc32c5b74efaa2402cf8a4a9eb15",
      "443a772800a64ba2a2775e3c7efa733e",
      "a3214f90235a4eb28a4c63346ada57e2",
      "89dfcc1b7c814926982ef7aaa7572070",
      "03beadf0e505460fb99da75eaa6a6f26",
      "1c1142eafae741e8977b346709d0bfcf",
      "9ee21b41f1f34e2ea991f3d0fab048e0",
      "66bd2b6b1614486b9ae7319404d425b2",
      "b2d6f48bbdec46c1a78d38d551a633a1",
      "777cfd832f324bb782d05ae123d842f8",
      "abc6f624c7ec42ac83d53717ee8d188a",
      "d566c6500f414093ad5d1be514f52a21",
      "15c2a3fa84ae446e823763ca6e3437dd",
      "63896d0a62614277aa7b9023b2a7e205",
      "2c64169aab8e4d05aef746ad617a1c82",
      "08bec41d708b48548193e4ea26842d90",
      "7d45f9c597194b60937814201d246bf4",
      "0981aba509ad46c7afcb326ab6342c40",
      "b673b7f43bc54eabaa8a3769c57df057",
      "d74a2e53fdea449b8c19e4b614b5e1bd",
      "29ca74573c444782ab885d9367082c17",
      "9fcfdd8a95a145999be37e8a6c88ebcd",
      "ec262cfdbc084e998e9c8499b55e8f69",
      "abc2e27e4bac43a699e947eb700e008f",
      "d1ddb6c537e04e34a7865d8411c1a6d3",
      "1c8044b3f1304c90a14c1fdbc7079f28",
      "b2a45e34ecb346b589ed2b722c2bccd6",
      "da5d56b1c7b14868a200e2cb909b65e2",
      "6b6cfec883264fdd8fff4aaa70be81e1",
      "b49f45ad30fe4888861f0304a420583c",
      "afa4a42dd7934aef8f597d950ab102a8",
      "5e24168370df45f5a2a3aea00608ef1f",
      "aa50e8f2e8244f6a9facbc8fbdc09924",
      "c532d5a91f6047de89a021007cd61863",
      "9672a81c65504c46bf36552688ee2f99",
      "8ed3e2c353894bc7b1f23e5644db8f85",
      "770bd4bdd498458cb2af9b5a708fd0ef",
      "0af5b031e40e45e29f9955f1817975f8",
      "c356075bd40c4f58bfaad5c43bd8f691",
      "cd29343b33354ddb984806ee71e0b3b4",
      "24591b484542418eadbd8e6cd6180443",
      "26836ed2593648af828146a95238c91e",
      "946715987a1044adad77a7029c149e25",
      "335e10c113a949cbbe34441be9442b2c",
      "ac3c37dec11a414a95014da89d411ab8",
      "a70f2b826b4943fea74761d1f785a579",
      "3e01ab0f8ac1439da5c665cb83763e52",
      "a4471a4e0c004439964ae2d997923a0d",
      "8d8191ad39064acd893e021ca1415e41",
      "149bc3046baa42f9883ca2959753efdc",
      "e66029c3e1314f769b797151d3d4f5fa",
      "56f014735002437b8a86f1de54b14a95",
      "2c867ec829af47679554d5ae5c6d1793",
      "8d03deda610e4e899c5b05501aff79ce",
      "45a0a0a47ced4a9e925628e4fcf3731b",
      "ba65373135b24e2a8835e204ea3e03d3",
      "5d84b65921334353a563ab22ce4dc782",
      "59710f4d17464e09896b641717b6223f",
      "af0056b0c59b4c5f90fb76d0c5f6014a",
      "0001581683bf42089997ca1ee7383c9d",
      "e3a59f5ea41d4c1aac35dda27dd5a401",
      "ffd7a3d38c1c41429de3de4c45adb9b7",
      "df439b8107184535b4994c5c98845371",
      "31ee73f18b8843d3a80efdbf08e77fe3",
      "077892478efc4904bfdaf7030bb2bdaf",
      "b967ae76ce27489587acae0602ee0fb3",
      "5f4c1e28028740c88a401035fca83431"
     ]
    },
    "executionInfo": {
     "elapsed": 71086,
     "status": "ok",
     "timestamp": 1742779010343,
     "user": {
      "displayName": "정민규",
      "userId": "12847796100862564136"
     },
     "user_tz": -540
    },
    "id": "uX02UwVwooPY",
    "outputId": "f30afe15-3eac-4f5e-f43b-5d40a3af2ce0"
   },
   "outputs": [],
   "source": [
    "# Torch Dynamo 완전 비활성화 (강제)\n",
    "torch._dynamo.config.suppress_errors = True\n",
    "torch._inductor.config.fallback_random = True\n",
    "torch._dynamo.reset()  # 기존 캐시 제거\n",
    "torch._dynamo.config.cache_size_limit = 0  # 캐시 크기 제한\n",
    "torch._dynamo.config.disable = True  #  Dynamo 강제 비활성화\n",
    "\n",
    "model_id = \"rtzr/ko-gemma-2-9b-it\"\n",
    "\n",
    "# 4비트 양자화 설정 (float16 적용)\n",
    "quantization_config_4bit = BitsAndBytesConfig(\n",
    "    load_in_4bit=True,\n",
    "    bnb_4bit_compute_dtype=torch.float16,  # float16으로 복구\n",
    "    bnb_4bit_quant_type=\"nf4\",\n",
    ")\n",
    "\n",
    "# ✅ 토크나이저 로드\n",
    "tokenizer = AutoTokenizer.from_pretrained(model_id)\n",
    "\n",
    "# ✅ 모델 로드 (4비트 양자화 적용)\n",
    "model = AutoModelForCausalLM.from_pretrained(\n",
    "    model_id,\n",
    "    torch_dtype=torch.float16,  # ✅ float16 사용\n",
    "    device_map=\"auto\",\n",
    "    quantization_config=quantization_config_4bit,\n",
    "    low_cpu_mem_usage=True,\n",
    ")\n",
    "\n",
    "# ✅ 모델을 GPU로 강제 이동\n",
    "model.to(\"cuda\")"
   ]
  },
  {
   "cell_type": "code",
   "execution_count": null,
   "metadata": {
    "colab": {
     "base_uri": "https://localhost:8080/"
    },
    "executionInfo": {
     "elapsed": 420,
     "status": "ok",
     "timestamp": 1742779013980,
     "user": {
      "displayName": "정민규",
      "userId": "12847796100862564136"
     },
     "user_tz": -540
    },
    "id": "X3xGAA-yooev",
    "outputId": "6de5f27e-913e-46b8-9652-253d96691637"
   },
   "outputs": [],
   "source": [
    "# 5. LoRA 설정 적용\n",
    "peft_config = LoraConfig(\n",
    "    task_type=TaskType.CAUSAL_LM,  # 자동회귀 언어모델 fine-tuning을 지정\n",
    "    inference_mode=False,\n",
    "    r=16,                        # LoRA의 저차원 공간 차원 수 (예시)\n",
    "    lora_alpha=32,               # 스케일링 파라미터\n",
    "    lora_dropout=0.1,            # Dropout 확률\n",
    "    target_modules=[\"q_proj\", \"k_proj\", \"v_proj\", \"o_proj\"]  # 모델 아키텍처에 따라 조정\n",
    ")\n",
    "model = prepare_model_for_kbit_training(model)\n",
    "model = get_peft_model(model, peft_config)\n",
    "print(\"Trainable parameters:\")\n",
    "model.print_trainable_parameters()"
   ]
  },
  {
   "cell_type": "code",
   "execution_count": null,
   "metadata": {
    "id": "iwamXdSEpDib"
   },
   "outputs": [],
   "source": [
    "# 6. 프롬프트와 답변을 결합하고, 프롬프트 부분은 라벨 마스킹하는 전처리 함수 정의\n",
    "def preprocess_example(example):\n",
    "    # 질문(프롬프트)와 답변을 구분하는 템플릿 구성\n",
    "    prompt = f\"질문: {example['question']}\\n답변: \"\n",
    "    answer = example['answer']\n",
    "    full_text = prompt + answer\n",
    "    tokenized = tokenizer(full_text, truncation=True, max_length=1024, padding=\"max_length\")\n",
    "    labels = tokenized[\"input_ids\"].copy()\n",
    "\n",
    "    # 프롬프트 부분 토크나이즈 후 길이 산출\n",
    "    prompt_ids = tokenizer(prompt, truncation=True, max_length=1024, padding=\"max_length\")[\"input_ids\"]\n",
    "    prompt_len = len(prompt_ids)\n",
    "\n",
    "    # 프롬프트 부분은 로스 계산에서 제외하기 위해 -100 (ignore index)로 마스킹\n",
    "    labels[:prompt_len] = [-100] * prompt_len\n",
    "    tokenized[\"labels\"] = labels\n",
    "    return tokenized"
   ]
  },
  {
   "cell_type": "code",
   "execution_count": null,
   "metadata": {
    "colab": {
     "base_uri": "https://localhost:8080/",
     "height": 81,
     "referenced_widgets": [
      "3345f400ef214d65bb3e6786ce91df7d",
      "e7fe5b981efa451fb0766d0085c36b5b",
      "a18151499baa4a1294bdf441622191fd",
      "e25107cdcc48461a88a9b21e33e09c61",
      "4ebc1e2fe5b34c0d9290a444f8b14b04",
      "afebdf843d2c4ee69b7f4e2d121d821f",
      "d451937ff39d4dd4b7b11538a20874bd",
      "195dbf11657040888562df6841dd56e5",
      "2379ed29d0874820834e1f602ab824d6",
      "943abe2d60e847fd8ff7d1fdd8086c76",
      "0c5811824b1a4bab900c8b0f05aec7e2",
      "4cc1b732bf294ce082a192e8edcd69b5",
      "0f938ae92d8141c9aebc057e779ff8bd",
      "3168457fe55446ddb3bdadb355d80831",
      "9fae5d12599749dea5cb0d6e351045ba",
      "553d0bdf8fe54c3c9f2aa640a967b244",
      "0bf041d0cd34402781ee78e0e7b103a7",
      "fc4bd59f993f4035b2208f3490d94f31",
      "106890901d1b47f0b523b22155b37aaf",
      "e59d78d0c4884eb8b5d64f96cb2f2f70",
      "95b06bcfe440497d9f89ae5fdb53b109",
      "b6edf9a6a5ec48e49a03a2c7ef7de54c"
     ]
    },
    "executionInfo": {
     "elapsed": 63141,
     "status": "ok",
     "timestamp": 1742779080828,
     "user": {
      "displayName": "정민규",
      "userId": "12847796100862564136"
     },
     "user_tz": -540
    },
    "id": "nuwO_eixpIBN",
    "outputId": "252a37bc-5a2b-4ea7-ceec-bbbed96ae1a9"
   },
   "outputs": [],
   "source": [
    "# 7. 데이터셋에 전처리 적용\n",
    "train_dataset = train_dataset.map(preprocess_example, batched=False)\n",
    "val_dataset   = val_dataset.map(preprocess_example, batched=False)"
   ]
  },
  {
   "cell_type": "code",
   "execution_count": null,
   "metadata": {
    "id": "CkVAJKCzpSIi"
   },
   "outputs": [],
   "source": [
    "# 8. Data Collator (자동회귀 LM용; mlm=False)\n",
    "data_collator = DataCollatorForLanguageModeling(tokenizer=tokenizer, mlm=False)"
   ]
  },
  {
   "cell_type": "code",
   "execution_count": null,
   "metadata": {
    "id": "LIBd62C5pUUJ"
   },
   "outputs": [],
   "source": [
    "# 9. TrainingArguments 설정 (예제에서는 3 epoch, 배치 사이즈 4로 설정)\n",
    "training_args = SFTConfig(\n",
    "    output_dir=\"/content/drive/MyDrive/final_lora\",\n",
    "    overwrite_output_dir=True,\n",
    "    num_train_epochs=1,\n",
    "    per_device_train_batch_size=4,\n",
    "    # evaluation_strategy=\"steps\",\n",
    "    # eval_steps=500,\n",
    "    # save_steps=500,\n",
    "    logging_steps=100,\n",
    "    learning_rate=5e-5,\n",
    "    fp16=True,  # GPU 환경에서 mixed precision 사용\n",
    "    report_to=\"none\",\n",
    "    # load_best_model_at_end=True,\n",
    "    # metric_for_best_model=\"eval_loss\",\n",
    "    # greater_is_better=False,\n",
    "    lr_scheduler_type=\"cosine\",\n",
    "\n",
    "    # label_names 추가 (SFTTrainer가 인식할 수 있도록 설정)\n",
    "    label_names=[\"labels\"]\n",
    ")\n"
   ]
  },
  {
   "cell_type": "code",
   "execution_count": null,
   "metadata": {
    "colab": {
     "base_uri": "https://localhost:8080/",
     "height": 49,
     "referenced_widgets": [
      "043988f89faf4ff8b1b2d81f93f61927",
      "3c7df76a430c464998e1ece87832a3fe",
      "44102ba934154bf4920749d344c618f7",
      "7a95f09169e64e59b10e6ebe13484d85",
      "f5c4b02ecb6647f0baa5b6fc82ccf1c8",
      "38fd9251d45446c1915eab1b3c45f1a9",
      "4a61943e3eef45889ac0012855b97811",
      "d719e55564a3499483a085330a87ada8",
      "d084fd681b56425f86f3baabed6da41a",
      "4aa66e9918e94682b57c32944f5adbef",
      "53f295fd80e24af8af4508ec0147232b"
     ]
    },
    "executionInfo": {
     "elapsed": 2378,
     "status": "ok",
     "timestamp": 1742779146581,
     "user": {
      "displayName": "정민규",
      "userId": "12847796100862564136"
     },
     "user_tz": -540
    },
    "id": "nXGWR67upWCi",
    "outputId": "3dd58930-9fc6-4395-995e-619cc94b7451"
   },
   "outputs": [],
   "source": [
    "# 10. SFTTrainer 객체 생성 (프롬프트-응답 구조에 따른 학습 최적화)\n",
    "trainer = SFTTrainer(\n",
    "    model=model,\n",
    "    args=training_args,\n",
    "    train_dataset=train_dataset,\n",
    "    # eval_dataset=val_dataset,\n",
    "    data_collator=data_collator,\n",
    "    # label_names=[\"labels\"]\n",
    ")"
   ]
  },
  {
   "cell_type": "code",
   "execution_count": null,
   "metadata": {
    "collapsed": true,
    "id": "WyPy7fX_pX7S"
   },
   "outputs": [],
   "source": [
    "trainer.train()"
   ]
  },
  {
   "cell_type": "code",
   "execution_count": null,
   "metadata": {
    "id": "CDj9KVXCpdG2"
   },
   "outputs": [],
   "source": [
    "#trainer.save_model(base+path / \"final_lora\")"
   ]
  },
  {
   "cell_type": "markdown",
   "metadata": {
    "id": "5aJdMCJdQ0WQ"
   },
   "source": [
    "# Vector Store Generation"
   ]
  },
  {
   "cell_type": "code",
   "execution_count": null,
   "metadata": {
    "colab": {
     "base_uri": "https://localhost:8080/"
    },
    "collapsed": true,
    "id": "-erNR_HaQ9ut",
    "outputId": "96095a59-c51d-41d4-a7ce-709b5e5ba642"
   },
   "outputs": [],
   "source": [
    "# PDF 파일 전처리\n",
    "def preprocessing_pdf(text):\n",
    "    \"\"\"위에서 3줄 삭제 후, 특정 패턴 제거\"\"\"\n",
    "\n",
    "    # 맨 위 3줄 삭제\n",
    "    lines = text.split(\"\\n\")  # 줄 단위로 나누기\n",
    "    text = \"\\n\".join(lines[3:])  # 앞 3줄 삭제 후 다시 합치기\n",
    "\n",
    "    # 'KOSHA Guide' 또는 'KOSHA GUIDE' 뒤의 모든 문자 삭제 (대소문자 구분 O)\n",
    "    text = re.sub(r'KOSHA GUIDE.*|KOSHA Guide.*', '', text)\n",
    "\n",
    "    # 'C - '로 시작하는 줄 삭제 (MULTILINE)\n",
    "    text = re.sub(r'^C - .*$', '', text, flags=re.MULTILINE)\n",
    "\n",
    "    # '<그림'으로 시작하는 줄 삭제\n",
    "    text = re.sub(r'^<그림.*$', '', text, flags=re.MULTILINE)\n",
    "\n",
    "    # '- 숫자 -' 패턴 삭제\n",
    "    text = re.sub(r'^\\s*- \\d+ -\\s*$', '', text, flags=re.MULTILINE)\n",
    "\n",
    "    # 유니코드 비표준 문자(깨진 문자) 제거 (Private Use Area, PUA 문자 제거)\n",
    "    text = re.sub(r'[\\ue000-\\uf8ff]', '', text)  # U+E000 ~ U+F8FF 범위 제거\n",
    "\n",
    "    return text.strip()  # 앞뒤 공백 제거\n",
    "\n",
    "# 폴더 내 모든 PDF 파일 찾기\n",
    "pdf_folder = base_path / \"건설안전지침\"\n",
    "pdf_files = glob.glob(os.path.join(pdf_folder, \"*.pdf\"))\n",
    "\n",
    "print(f\" 총 {len(pdf_files)}개의 PDF 파일이 발견되었습니다!\")\n",
    "\n",
    "\n",
    "\n",
    "#  문서 분할기 설정 (500자 단위, 50자 중첩)\n",
    "text_splitter = CharacterTextSplitter(chunk_size=500, chunk_overlap=50)\n",
    "\n",
    "#  전체 문서를 담을 리스트\n",
    "all_splits = []\n",
    "\n",
    "#  PDF 파일별 처리\n",
    "for pdf_path in pdf_files:\n",
    "    print(f\"🔍 처리 중: {pdf_path}\")\n",
    "\n",
    "    #  PDF 로드\n",
    "    loader = PyPDFium2Loader(pdf_path)\n",
    "    documents = loader.load()\n",
    "\n",
    "    #  전처리 적용 (모든 페이지)\n",
    "    processed_documents = [preprocessing_pdf(doc.page_content) for doc in documents]\n",
    "\n",
    "    #  3페이지(인덱스 2)부터 문서 분할 및 저장\n",
    "    for doc in processed_documents[3:]:  # ✅ 3페이지부터 처리\n",
    "        splits = text_splitter.split_text(doc)  # 개별 페이지 분할\n",
    "        all_splits.extend(splits)  # 모든 분할된 텍스트를 리스트에 추가\n",
    "        all_splits = [chunk.replace(\"\\n\\n\", \"[PARA]\").replace(\"\\n\", \" \").replace(\"[PARA]\", \"\\n\\n\") for chunk in all_splits]"
   ]
  },
  {
   "cell_type": "code",
   "execution_count": null,
   "metadata": {
    "colab": {
     "base_uri": "https://localhost:8080/"
    },
    "executionInfo": {
     "elapsed": 46,
     "status": "ok",
     "timestamp": 1742520377539,
     "user": {
      "displayName": "이상화",
      "userId": "16591940094992373463"
     },
     "user_tz": -540
    },
    "id": "NGKfY_DnQ8x0",
    "outputId": "6f44346f-a18a-4a6b-9639-3ec493a38e10"
   },
   "outputs": [],
   "source": [
    "print(f\"\\n✅ 총 {len(pdf_files)}개의 PDF 파일 처리가 완료되었습니다!\")\n",
    "print(f\"📝 생성된 총 청크 개수: {len(all_splits)}\")"
   ]
  },
  {
   "cell_type": "code",
   "execution_count": null,
   "metadata": {
    "collapsed": true,
    "id": "IdtpOZR8RBa2",
    "outputId": "d9fa0554-7f5f-45db-a2d9-1fa99979c7a5"
   },
   "outputs": [],
   "source": [
    "# 임베딩 모델 설정\n",
    "embedding_model_name = \"jhgan/ko-sbert-sts\"  # 한국어 SBERT 모델\n",
    "embedding = HuggingFaceEmbeddings(model_name=embedding_model_name)\n",
    "\n",
    "# 진행 바 추가하여 임베딩 생성 (효율적인 방식)\n",
    "embeddings_list = [embedding.embed_query(text) for text in tqdm(all_splits, desc=\"임베딩 진행 중\", unit=\"chunk\")]\n"
   ]
  },
  {
   "cell_type": "code",
   "execution_count": null,
   "metadata": {
    "colab": {
     "base_uri": "https://localhost:8080/"
    },
    "executionInfo": {
     "elapsed": 8,
     "status": "ok",
     "timestamp": 1742521363713,
     "user": {
      "displayName": "이상화",
      "userId": "16591940094992373463"
     },
     "user_tz": -540
    },
    "id": "molqYGkPRFRw",
    "outputId": "8b524823-9b3b-4359-a84d-4d3366b34d25"
   },
   "outputs": [],
   "source": [
    "print(len(embeddings_list), len(all_splits))"
   ]
  },
  {
   "cell_type": "code",
   "execution_count": null,
   "metadata": {
    "colab": {
     "base_uri": "https://localhost:8080/"
    },
    "executionInfo": {
     "elapsed": 817,
     "status": "ok",
     "timestamp": 1742521373296,
     "user": {
      "displayName": "이상화",
      "userId": "16591940094992373463"
     },
     "user_tz": -540
    },
    "id": "2MriwBJdRFUe",
    "outputId": "28f2fa03-db55-4bae-a9a3-94034d525397"
   },
   "outputs": [],
   "source": [
    "# (텍스트, 임베딩) 쌍을 생성\n",
    "text_embedding_pairs = list(zip(all_splits, embeddings_list))\n",
    "\n",
    "# FAISS 벡터 스토어 생성\n",
    "vector_store = FAISS.from_embeddings(\n",
    "    text_embeddings=text_embedding_pairs,  # 올바른 형식 (튜플 리스트)\n",
    "    embedding=embedding  # 임베딩 모델 객체\n",
    ")\n",
    "\n",
    "print(\"FAISS 벡터 저장 완료!\")"
   ]
  },
  {
   "cell_type": "code",
   "execution_count": null,
   "metadata": {
    "colab": {
     "base_uri": "https://localhost:8080/"
    },
    "executionInfo": {
     "elapsed": 7,
     "status": "ok",
     "timestamp": 1742521376291,
     "user": {
      "displayName": "이상화",
      "userId": "16591940094992373463"
     },
     "user_tz": -540
    },
    "id": "oiyAPwIwRFW1",
    "outputId": "e8ad2b60-9f4c-49fc-a0cb-3707e23aab29"
   },
   "outputs": [],
   "source": [
    "print(\"FAISS에 저장된 벡터 개수:\", vector_store.index.ntotal)\n",
    "print(\"실제 embeddings 개수:\", len(embeddings_list))"
   ]
  },
  {
   "cell_type": "markdown",
   "metadata": {
    "id": "rLplxo55Lsdo"
   },
   "source": [
    "# LoRA model load"
   ]
  },
  {
   "cell_type": "code",
   "execution_count": 9,
   "metadata": {
    "id": "5lhjY4n3L166"
   },
   "outputs": [],
   "source": [
    "#불러오기\n",
    "FINETUNED_MODEL = base_path / \"ko_gemma\"\n",
    "peft_config = PeftConfig.from_pretrained(FINETUNED_MODEL)"
   ]
  },
  {
   "cell_type": "code",
   "execution_count": 10,
   "metadata": {
    "id": "_yaZwuAUL7xN"
   },
   "outputs": [],
   "source": [
    "# 양자화 설정\n",
    "quant_config = BitsAndBytesConfig(\n",
    "    load_in_4bit=True,                   # 4비트 로드 활성화\n",
    "    bnb_4bit_quant_type=\"nf4\",           # 양자화 방식 (예: \"nf4\" 또는 \"fp4\")\n",
    "    bnb_4bit_use_double_quant=True,      # 이중 양자화 사용 여부\n",
    "    bnb_4bit_compute_dtype=torch.bfloat16  # 연산 시 사용할 데이터 타입\n",
    ")"
   ]
  },
  {
   "cell_type": "code",
   "execution_count": null,
   "metadata": {
    "id": "yZPO_dhNL19N",
    "outputId": "b429c932-84e4-4fee-9160-a8c3e082223d"
   },
   "outputs": [],
   "source": [
    "# Torch Dynamo 완전 비활성화 (강제)\n",
    "torch._dynamo.config.suppress_errors = True\n",
    "torch._inductor.config.fallback_random = True\n",
    "torch._dynamo.reset()  # 기존 캐시 제거\n",
    "torch._dynamo.config.cache_size_limit = 0  # 캐시 크기 제한\n",
    "torch._dynamo.config.disable = True  # Dynamo 강제 비활성화\n",
    "\n",
    "# 베이스 모델 및 토크나이저 로드\n",
    "model = AutoModelForCausalLM.from_pretrained(\n",
    "    peft_config.base_model_name_or_path,\n",
    "    quantization_config=quant_config,\n",
    "    device_map=\"auto\",\n",
    "    torch_dtype=torch.bfloat16,\n",
    "    trust_remote_code=True\n",
    ")\n",
    "tokenizer = AutoTokenizer.from_pretrained(\n",
    "    peft_config.base_model_name_or_path,\n",
    "    trust_remote_code=True\n",
    ")"
   ]
  },
  {
   "cell_type": "code",
   "execution_count": 12,
   "metadata": {
    "id": "Jm3SzsNvL1_6"
   },
   "outputs": [],
   "source": [
    "# LoRA 모델 로드\n",
    "peft_model = PeftModel.from_pretrained(model, FINETUNED_MODEL, torch_dtype=torch.bfloat16)"
   ]
  },
  {
   "cell_type": "code",
   "execution_count": null,
   "metadata": {
    "colab": {
     "base_uri": "https://localhost:8080/"
    },
    "executionInfo": {
     "elapsed": 7,
     "status": "ok",
     "timestamp": 1742522495400,
     "user": {
      "displayName": "이상화",
      "userId": "16591940094992373463"
     },
     "user_tz": -540
    },
    "id": "Qkqamp47L2B6",
    "outputId": "28724673-80e1-4f16-f1e4-91364d2f8bc8"
   },
   "outputs": [],
   "source": [
    "print(\"모델 타입:\", type(peft_model))\n",
    "print(\"토크나이저 타입:\", type(tokenizer))"
   ]
  },
  {
   "cell_type": "code",
   "execution_count": null,
   "metadata": {
    "colab": {
     "base_uri": "https://localhost:8080/"
    },
    "executionInfo": {
     "elapsed": 4017,
     "status": "ok",
     "timestamp": 1742522500780,
     "user": {
      "displayName": "이상화",
      "userId": "16591940094992373463"
     },
     "user_tz": -540
    },
    "id": "MdRV2lpHL2Ep",
    "outputId": "e385111a-62b6-480f-bf9b-6e7270e1cf4d"
   },
   "outputs": [],
   "source": [
    "# LoRA 가중치를 베이스 모델에 병합\n",
    "merged_model = peft_model.merge_and_unload()"
   ]
  },
  {
   "cell_type": "code",
   "execution_count": null,
   "metadata": {
    "colab": {
     "base_uri": "https://localhost:8080/"
    },
    "executionInfo": {
     "elapsed": 29,
     "status": "ok",
     "timestamp": 1742522505723,
     "user": {
      "displayName": "이상화",
      "userId": "16591940094992373463"
     },
     "user_tz": -540
    },
    "id": "VB3LHaVCL2Hl",
    "outputId": "c26f024a-26e6-4207-ed08-21d17cab90c6"
   },
   "outputs": [],
   "source": [
    "print(\"모델 타입:\", type(merged_model))\n",
    "print(\"토크나이저 타입:\", type(tokenizer))"
   ]
  },
  {
   "cell_type": "code",
   "execution_count": 16,
   "metadata": {
    "colab": {
     "base_uri": "https://localhost:8080/",
     "height": 206
    },
    "executionInfo": {
     "elapsed": 79,
     "status": "ok",
     "timestamp": 1742523272902,
     "user": {
      "displayName": "이상화",
      "userId": "16591940094992373463"
     },
     "user_tz": -540
    },
    "id": "kNWGBJ_rL2J8",
    "outputId": "3a200ced-777b-4912-e5b1-7ad3a2466de8"
   },
   "outputs": [
    {
     "data": {
      "text/html": [
       "<div>\n",
       "<style scoped>\n",
       "    .dataframe tbody tr th:only-of-type {\n",
       "        vertical-align: middle;\n",
       "    }\n",
       "\n",
       "    .dataframe tbody tr th {\n",
       "        vertical-align: top;\n",
       "    }\n",
       "\n",
       "    .dataframe thead th {\n",
       "        text-align: right;\n",
       "    }\n",
       "</style>\n",
       "<table border=\"1\" class=\"dataframe\">\n",
       "  <thead>\n",
       "    <tr style=\"text-align: right;\">\n",
       "      <th></th>\n",
       "      <th>question</th>\n",
       "    </tr>\n",
       "  </thead>\n",
       "  <tbody>\n",
       "    <tr>\n",
       "      <th>0</th>\n",
       "      <td>철근콘크리트공사 작업 중 부딪힘 발생. \\n키워드: 펌프카 아웃트리거 바닥 고임목을...</td>\n",
       "    </tr>\n",
       "    <tr>\n",
       "      <th>1</th>\n",
       "      <td>수장공사 작업 중 절단, 베임 발생. \\n키워드: 작업자의 불안전한 행동(숫돌 측면...</td>\n",
       "    </tr>\n",
       "    <tr>\n",
       "      <th>2</th>\n",
       "      <td>미장공사 작업 중 떨어짐 발생. \\n키워드: 작업자가 작업을 위해 이동 중 전방을 ...</td>\n",
       "    </tr>\n",
       "    <tr>\n",
       "      <th>3</th>\n",
       "      <td>조적공사 작업 중 넘어짐 발생. \\n키워드: 작업 발판 위 벽돌 잔재를 밟고 넘어짐...</td>\n",
       "    </tr>\n",
       "    <tr>\n",
       "      <th>4</th>\n",
       "      <td>교량공사 작업 중 떨어짐 발생. \\n키워드: 점심식사를 위한 이동시 작업자 부주의로...</td>\n",
       "    </tr>\n",
       "  </tbody>\n",
       "</table>\n",
       "</div>"
      ],
      "text/plain": [
       "                                            question\n",
       "0  철근콘크리트공사 작업 중 부딪힘 발생. \\n키워드: 펌프카 아웃트리거 바닥 고임목을...\n",
       "1  수장공사 작업 중 절단, 베임 발생. \\n키워드: 작업자의 불안전한 행동(숫돌 측면...\n",
       "2  미장공사 작업 중 떨어짐 발생. \\n키워드: 작업자가 작업을 위해 이동 중 전방을 ...\n",
       "3  조적공사 작업 중 넘어짐 발생. \\n키워드: 작업 발판 위 벽돌 잔재를 밟고 넘어짐...\n",
       "4  교량공사 작업 중 떨어짐 발생. \\n키워드: 점심식사를 위한 이동시 작업자 부주의로..."
      ]
     },
     "execution_count": 16,
     "metadata": {},
     "output_type": "execute_result"
    }
   ],
   "source": [
    "# 경로 확인\n",
    "test = pd.read_csv(base_path / 'test.csv', encoding = 'utf-8-sig') # 수정 해야함\n",
    "\n",
    "test['공사종류(대분류)'] = test['공사종류'].str.split(' / ').str[0]\n",
    "test['공사종류(중분류)'] = test['공사종류'].str.split(' / ').str[1]\n",
    "test['공종(대분류)'] = test['공종'].str.split(' > ').str[0]\n",
    "test['공종(중분류)'] = test['공종'].str.split(' > ').str[1]\n",
    "test['사고객체(대분류)'] = test['사고객체'].str.split(' > ').str[0]\n",
    "test['사고객체(중분류)'] = test['사고객체'].str.split(' > ').str[1]\n",
    "test['인적사고'] = test['인적사고'].str.replace(r'\\(.*?\\)', '', regex=True)\n",
    "\n",
    "\n",
    "# 테스트 데이터 통합 생성\n",
    "combined_test_data = test.apply(\n",
    "    lambda row: {\n",
    "        \"question\": (\n",
    "            f\"{row['공종(중분류)']} 작업 중 {row['인적사고']} 발생. \\n\"\n",
    "            f\"키워드: {row['사고원인']} \\n\"\n",
    "            f\"{row['인적사고']} 방지를 위한 조치는?\"\n",
    "        )\n",
    "    },\n",
    "    axis=1\n",
    ")\n",
    "# DataFrame으로 변환\n",
    "combined_test_data = pd.DataFrame(list(combined_test_data))\n",
    "combined_test_data.head()"
   ]
  },
  {
   "cell_type": "code",
   "execution_count": null,
   "metadata": {
    "colab": {
     "base_uri": "https://localhost:8080/"
    },
    "executionInfo": {
     "elapsed": 12,
     "status": "ok",
     "timestamp": 1742522657288,
     "user": {
      "displayName": "이상화",
      "userId": "16591940094992373463"
     },
     "user_tz": -540
    },
    "id": "4GqTfRz_MA43",
    "outputId": "345fe076-a76c-4b67-dde5-1e0f11653e84"
   },
   "outputs": [],
   "source": [
    "text_generation_pipeline = pipeline(\n",
    "    model= merged_model,\n",
    "    tokenizer=tokenizer,\n",
    "    task=\"text-generation\",\n",
    "    do_sample=False, # False 로 하면 같은 입력에 같은 출력\n",
    "    return_full_text=False,\n",
    "    max_new_tokens=128, # 문장 최대 길이 조정\n",
    "    batch_size=8  # 배치 크기 지정\n",
    ")"
   ]
  },
  {
   "cell_type": "code",
   "execution_count": null,
   "metadata": {
    "colab": {
     "base_uri": "https://localhost:8080/"
    },
    "executionInfo": {
     "elapsed": 77,
     "status": "ok",
     "timestamp": 1742522658169,
     "user": {
      "displayName": "이상화",
      "userId": "16591940094992373463"
     },
     "user_tz": -540
    },
    "id": "zIQNHK6XMA7N",
    "outputId": "d42b0a4a-fe30-41ed-bbdc-6aff710a8547"
   },
   "outputs": [],
   "source": [
    "print(\"모델 타입:\", type(merged_model))\n",
    "print(\"토크나이저 타입:\", type(tokenizer))"
   ]
  },
  {
   "cell_type": "code",
   "execution_count": 19,
   "metadata": {},
   "outputs": [],
   "source": [
    "retriever = vector_store.as_retriever(search_type=\"similarity\", search_kwargs={\"k\": 3})"
   ]
  },
  {
   "cell_type": "code",
   "execution_count": 20,
   "metadata": {
    "id": "950w3549MA9a"
   },
   "outputs": [],
   "source": [
    "prompt_template = \"\"\"\n",
    "역할: 당신은 건설 안전 전문가입니다. 검색 결과를 바탕으로 질문에 대한 조치 사항을 간결하게 작성하세요.\n",
    "\n",
    "질문에 대한 재발 방지 대책 및 향후 조치 계획만 간결하게 답변하세요.\n",
    "검색된 내용에 기반하여 조치를 작성하세요.\n",
    "목차, 번호, 특수기호 없이 핵심 내용만 서술하세요.\n",
    "답변에 불필요한 부연 설명, 연결어, 주어 제거하세요.\n",
    "반드시 마침표로 끝나는 문장으로 작성하세요.\n",
    "반드시 답변만 출력하세요.\n",
    "\n",
    "{context}\n",
    "\n",
    "질문:\n",
    "{question}\n",
    "\n",
    "답변:\n",
    "\"\"\"\n",
    "\n",
    "\n",
    "# 커스텀 프롬프트 생성\n",
    "prompt = PromptTemplate(\n",
    "    input_variables=[\"context\", \"question\"],\n",
    "    template=prompt_template,\n",
    ")"
   ]
  },
  {
   "cell_type": "markdown",
   "metadata": {
    "id": "R8XYUR_LNHll"
   },
   "source": [
    "# Result Generation"
   ]
  },
  {
   "cell_type": "code",
   "execution_count": null,
   "metadata": {
    "id": "3odHe0EdNBsO"
   },
   "outputs": [],
   "source": [
    "# Cross-Encoder 모델 초기화 (한국어 모델 사용, max_length=512)\n",
    "cross_encoder = CrossEncoder(\"bongsoo/albert-small-kor-cross-encoder-v1\", max_length=512)\n",
    "# TensorFloat32 경고 해결 (필요시)\n",
    "torch.set_float32_matmul_precision('high')\n",
    "tokenizer.padding_side = \"left\"  # tokenizer 객체가 있을 경우에만 사용\n",
    "\n",
    "# 배치 크기를 줄여서 GPU 메모리 부담을 줄입니다.\n",
    "batch_size = 8  # 예: 기존 16에서 4로 조정\n",
    "\n",
    "test_questions = combined_test_data['question'].tolist()\n",
    "test_dataset = Dataset.from_dict({\"question\": test_questions})\n",
    "val_results = []\n",
    "print(\"테스트 실행 시작... 총 테스트 샘플 수:\", len(test_questions))\n",
    "\n",
    "def process_batch(batch):\n",
    "    batched_prompts = []\n",
    "    retrieval_results = []\n",
    "    for q in batch[\"question\"]:\n",
    "        # 1. Dense Retrieval으로 관련 문서(청크) 전체 가져오기\n",
    "        dense_results = retriever.invoke(q)\n",
    "        if dense_results:\n",
    "            # 2. 각 (질문, 문서) 쌍에 대해 Cross-Encoder 점수 계산\n",
    "            pairs = [(q, doc.page_content if hasattr(doc, \"page_content\") else doc) for doc in dense_results]\n",
    "            ce_scores = cross_encoder.predict(pairs)\n",
    "            # 3. 점수를 기준으로 내림차순 정렬 후 55% 이상인 문서 필터링\n",
    "            reranked = sorted(zip(dense_results, ce_scores), key=lambda x: x[1], reverse=True)\n",
    "            filtered_docs = [doc for doc, score in reranked if score >= 0.55]\n",
    "            # 4. 조건에 만족하면 해당 문서들의 page_content를 결합하여 컨텍스트 생성, 아니면 빈 문자열\n",
    "            if filtered_docs:\n",
    "                context = \"\\n\".join([doc.page_content for doc in filtered_docs])\n",
    "            else:\n",
    "                context = \"\"\n",
    "\n",
    "            # 검색 결과 저장\n",
    "            retrieval_results.append({\n",
    "                \"question\": q,\n",
    "                \"retrieved_docs\": [\n",
    "                    {\n",
    "                        \"content\": doc.page_content if hasattr(doc, \"page_content\") else doc,\n",
    "                        \"similarity_score\": score\n",
    "                    } for doc, score in reranked if score >= 0.55\n",
    "                ]\n",
    "            })\n",
    "        else:\n",
    "            context = \"\"\n",
    "            retrieval_results.append({\n",
    "                \"question\": q,\n",
    "                \"retrieved_docs\": []\n",
    "            })\n",
    "        batched_prompts.append(prompt.format(context=context, question=q))\n",
    "\n",
    "    # 모델 추론 시 기울기 계산 방지를 위해 no_grad 블록 사용\n",
    "    with torch.no_grad():\n",
    "        outputs = text_generation_pipeline(batched_prompts, batch_size=len(batched_prompts))\n",
    "    # 각 출력 결과에서 'generated_text' 키의 값을 추출합니다.\n",
    "    return [output[0][\"generated_text\"] for output in outputs], retrieval_results\n",
    "\n",
    "# 메인 루프 수정 (배치 처리 후 캐시 클리어)\n",
    "for batch in tqdm(test_dataset.batch(batch_size), desc=\"검증 배치 처리\"):\n",
    "    batch_results, batch_retrieval_results = process_batch(batch)\n",
    "    val_results.extend(batch_results)\n",
    "    # 배치 처리 후 GPU 캐시를 비워 메모리 누수를 방지합니다.\n",
    "    torch.cuda.empty_cache()\n",
    "print(\"\\n테스트 처리 완료! 총 검증 결과 수:\", len(val_results))"
   ]
  },
  {
   "cell_type": "code",
   "execution_count": 22,
   "metadata": {
    "colab": {
     "base_uri": "https://localhost:8080/",
     "height": 424
    },
    "executionInfo": {
     "elapsed": 45,
     "status": "ok",
     "timestamp": 1742528526794,
     "user": {
      "displayName": "이상화",
      "userId": "16591940094992373463"
     },
     "user_tz": -540
    },
    "id": "LbkgnQobMBLO",
    "outputId": "9b400565-d33d-430d-c242-8968f976818f"
   },
   "outputs": [
    {
     "data": {
      "text/html": [
       "<div>\n",
       "<style scoped>\n",
       "    .dataframe tbody tr th:only-of-type {\n",
       "        vertical-align: middle;\n",
       "    }\n",
       "\n",
       "    .dataframe tbody tr th {\n",
       "        vertical-align: top;\n",
       "    }\n",
       "\n",
       "    .dataframe thead th {\n",
       "        text-align: right;\n",
       "    }\n",
       "</style>\n",
       "<table border=\"1\" class=\"dataframe\">\n",
       "  <thead>\n",
       "    <tr style=\"text-align: right;\">\n",
       "      <th></th>\n",
       "      <th>answer</th>\n",
       "    </tr>\n",
       "  </thead>\n",
       "  <tbody>\n",
       "    <tr>\n",
       "      <th>0</th>\n",
       "      <td>펌프카 아웃트리거 고임목 보강 및 지반 침하 방지 조치 실시. 좌우 아웃트리거 길이...</td>\n",
       "    </tr>\n",
       "    <tr>\n",
       "      <th>1</th>\n",
       "      <td>작업자 안전교육 실시 및 안전수칙 준수 강조. \\n보안면 착용 의무화. \\n절단, ...</td>\n",
       "    </tr>\n",
       "    <tr>\n",
       "      <th>2</th>\n",
       "      <td>작업 전 안전 교육 실시 및 작업자 안전 의식 고취.\\n계단 주변 안전 표지판 설치...</td>\n",
       "    </tr>\n",
       "    <tr>\n",
       "      <th>3</th>\n",
       "      <td>작업 발판 위 잔재물 제거 및 발판 안전 점검 실시. 작업자 안전 교육 실시. 안전...</td>\n",
       "    </tr>\n",
       "    <tr>\n",
       "      <th>4</th>\n",
       "      <td>작업장 내 이동 시 안전벨트 착용 의무화 및 안전 교육 실시. 안전 난간 설치. 안...</td>\n",
       "    </tr>\n",
       "    <tr>\n",
       "      <th>5</th>\n",
       "      <td>안전발판 설치 의무화 및 작업절차 준수 교육 실시. 안전발판 설치 및 작업절차 준수...</td>\n",
       "    </tr>\n",
       "    <tr>\n",
       "      <th>6</th>\n",
       "      <td>안전 난간 설치 및 안전벨트 착용 의무화. 안전 교육 실시. \\n안전 관리자 지정....</td>\n",
       "    </tr>\n",
       "    <tr>\n",
       "      <th>7</th>\n",
       "      <td>TSC GIRDER 조립 작업 시 SPLICE PLATE 설치 작업은 2인 이상 작...</td>\n",
       "    </tr>\n",
       "  </tbody>\n",
       "</table>\n",
       "</div>"
      ],
      "text/plain": [
       "                                              answer\n",
       "0  펌프카 아웃트리거 고임목 보강 및 지반 침하 방지 조치 실시. 좌우 아웃트리거 길이...\n",
       "1  작업자 안전교육 실시 및 안전수칙 준수 강조. \\n보안면 착용 의무화. \\n절단, ...\n",
       "2  작업 전 안전 교육 실시 및 작업자 안전 의식 고취.\\n계단 주변 안전 표지판 설치...\n",
       "3  작업 발판 위 잔재물 제거 및 발판 안전 점검 실시. 작업자 안전 교육 실시. 안전...\n",
       "4  작업장 내 이동 시 안전벨트 착용 의무화 및 안전 교육 실시. 안전 난간 설치. 안...\n",
       "5  안전발판 설치 의무화 및 작업절차 준수 교육 실시. 안전발판 설치 및 작업절차 준수...\n",
       "6  안전 난간 설치 및 안전벨트 착용 의무화. 안전 교육 실시. \\n안전 관리자 지정....\n",
       "7  TSC GIRDER 조립 작업 시 SPLICE PLATE 설치 작업은 2인 이상 작..."
      ]
     },
     "execution_count": 22,
     "metadata": {},
     "output_type": "execute_result"
    }
   ],
   "source": [
    "test_result = pd.DataFrame({\n",
    "     \"answer\": val_results  # 모델이 생성한 답변 리스트\n",
    "})\n",
    "test_result"
   ]
  },
  {
   "cell_type": "markdown",
   "metadata": {
    "id": "-CE4g-nY1k0s"
   },
   "source": [
    "# post_cleaning"
   ]
  },
  {
   "cell_type": "code",
   "execution_count": 23,
   "metadata": {
    "id": "juoACfGw1nnD"
   },
   "outputs": [],
   "source": [
    "def post_cleaning(df):\n",
    "  # 1번. 1., 2. 등 제거\n",
    "  df['answer'] = df['answer'].str.replace(r'^\\d+\\.', ',', regex=True)\n",
    "\n",
    "  # 2번. 줄 띄움 -> , 으로 변경\n",
    "  df['answer'] = df['answer'].str.replace('\\n','', regex=False)\n",
    "\n",
    "  # 3번. 질문부터 끝까지 삭제(있다면)\n",
    "  df['answer'] = df['answer'].str.replace(r'질문.*', '', regex=True)\n",
    "\n",
    "  # 4번. 연속된 \",\"를 \",\" 하나로 변경\n",
    "  df['answer'] = df['answer'].str.replace(r',+', '.', regex=True)\n",
    "\n",
    "  # 5번. 앞뒤 공백 및 \",\" 제거\n",
    "  df['answer'] = df['answer'].str.strip()\n",
    "\n",
    "  return df"
   ]
  },
  {
   "cell_type": "code",
   "execution_count": 24,
   "metadata": {
    "id": "Ki7bgqFf1nqQ"
   },
   "outputs": [],
   "source": [
    "test_result = post_cleaning(test_result)"
   ]
  },
  {
   "cell_type": "markdown",
   "metadata": {
    "id": "UyMaxG2rqlug"
   },
   "source": [
    "# Submission Generation"
   ]
  },
  {
   "cell_type": "code",
   "execution_count": 28,
   "metadata": {},
   "outputs": [],
   "source": [
    "from sentence_transformers import SentenceTransformer\n",
    "embedding_model_name = \"jhgan/ko-sbert-sts\"\n",
    "embedding = SentenceTransformer(embedding_model_name)"
   ]
  },
  {
   "cell_type": "code",
   "execution_count": 29,
   "metadata": {
    "collapsed": true,
    "id": "H9gUm8fuMBQl"
   },
   "outputs": [
    {
     "name": "stdout",
     "output_type": "stream",
     "text": [
      "(8, 768)\n"
     ]
    }
   ],
   "source": [
    "# 문장 리스트를 입력하여 임베딩 생성\n",
    "pred_embeddings = embedding.encode(test_result['answer'])\n",
    "print(pred_embeddings.shape)  # (샘플 개수, 768)"
   ]
  },
  {
   "cell_type": "code",
   "execution_count": null,
   "metadata": {
    "id": "qugGV0kHzGAk"
   },
   "outputs": [],
   "source": [
    "submission = pd.read_csv(base_path / 'sample_submission.csv', encoding = 'utf-8-sig') # 수정해야함\n",
    "# 최종 결과 저장\n",
    "submission.iloc[:,1] = test_result['answer']\n",
    "submission.iloc[:,2:] = pred_embeddings\n",
    "submission.head()\n",
    "# 최종 결과를 CSV로 저장\n",
    "submission.to_csv(base_path / 'submission.csv', index=False, encoding='utf-8-sig') # 수정해야함"
   ]
  }
 ],
 "metadata": {
  "accelerator": "GPU",
  "colab": {
   "gpuType": "A100",
   "machine_shape": "hm",
   "provenance": [],
   "toc_visible": true
  },
  "kernelspec": {
   "display_name": "sd2",
   "language": "python",
   "name": "python3"
  },
  "language_info": {
   "codemirror_mode": {
    "name": "ipython",
    "version": 3
   },
   "file_extension": ".py",
   "mimetype": "text/x-python",
   "name": "python",
   "nbconvert_exporter": "python",
   "pygments_lexer": "ipython3",
   "version": "3.10.16"
  }
 },
 "nbformat": 4,
 "nbformat_minor": 0
}